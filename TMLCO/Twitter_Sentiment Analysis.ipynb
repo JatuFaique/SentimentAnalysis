{
 "cells": [
  {
   "cell_type": "markdown",
   "metadata": {},
   "source": [
    "\n",
    "Given references Tweets generated, the resources are grouped into categories that represent sentiment of the tweet in general which include (1) Positive, (0) Neutral, (-1) Negative.\n",
    "\n",
    "The goal is to predict which class a particular resource belongs to given the tweet\n",
    "\n"
   ]
  },
  {
   "cell_type": "markdown",
   "metadata": {},
   "source": [
    "Loading data using path variable using .read_csv() method of pandas\n"
   ]
  },
  {
   "cell_type": "code",
   "execution_count": 1,
   "metadata": {},
   "outputs": [
    {
     "name": "stdout",
     "output_type": "stream",
     "text": [
      " 1.0    72250\n",
      " 0.0    55213\n",
      "-1.0    35510\n",
      "Name: category, dtype: int64\n",
      "                                          clean_text  category\n",
      "0  when modi promised “minimum government maximum...      -1.0\n",
      "1  talk all the nonsense and continue all the dra...       0.0\n",
      "2  what did just say vote for modi  welcome bjp t...       1.0\n",
      "3  asking his supporters prefix chowkidar their n...       1.0\n",
      "4  answer who among these the most powerful world...       1.0\n"
     ]
    }
   ],
   "source": [
    "\n",
    "\n",
    "# import packages\n",
    "import numpy as np\n",
    "import pandas as pd\n",
    "import matplotlib.pyplot as plt\n",
    "\n",
    "import seaborn as sns\n",
    "import re\n",
    "from nltk.corpus import stopwords\n",
    "from sklearn.model_selection import train_test_split\n",
    "from sklearn.feature_extraction.text import CountVectorizer, TfidfVectorizer\n",
    "from sklearn.naive_bayes import MultinomialNB\n",
    "from sklearn.multiclass import OneVsRestClassifier\n",
    "from sklearn.linear_model import LogisticRegression\n",
    "from sklearn.metrics import accuracy_score ,confusion_matrix\n",
    "\n",
    "\n",
    "# Code starts here\n",
    "\n",
    "# load data\n",
    "tweets = pd.read_csv('Twitter_Data.csv')\n",
    "\n",
    "tweets = tweets[['clean_text', 'category']]\n",
    "\n",
    "# distribution of classes\n",
    "dist = tweets.category.value_counts()\n",
    "\n",
    "# display class distribution\n",
    "print(dist)\n",
    "\n",
    "# display data\n",
    "print(tweets.head())\n"
   ]
  },
  {
   "cell_type": "markdown",
   "metadata": {},
   "source": [
    "Above we selected the required subset of data and observed the distribution of labels. Now time to preprocess text data by doing the following steps on the clean_text column -\n",
    "\n",
    "Retaining only alphabets (Using regular expressions) Using Lambda Function\n",
    "Removing stopwords (Using nltk library) Using Lambda Function\n",
    "Splitting into train and test sets (Uisng scikit-learn library) Using Lambda Function\n",
    "Initialize stopwords as stop with set(stopwords.words('english')) Using Lambda Function\n",
    "\n",
    "Finally split into train and test using train_test_split function, test size is 20% and random state is 3. Save the resultant variables as X_train, X_test, Y_train and Y_test\n"
   ]
  },
  {
   "cell_type": "code",
   "execution_count": 2,
   "metadata": {},
   "outputs": [],
   "source": [
    "tweets['clean_text']=tweets['clean_text'].apply(str)"
   ]
  },
  {
   "cell_type": "code",
   "execution_count": 3,
   "metadata": {},
   "outputs": [
    {
     "name": "stdout",
     "output_type": "stream",
     "text": [
      "<class 'pandas.core.frame.DataFrame'>\n",
      "RangeIndex: 162980 entries, 0 to 162979\n",
      "Data columns (total 2 columns):\n",
      " #   Column      Non-Null Count   Dtype  \n",
      "---  ------      --------------   -----  \n",
      " 0   clean_text  162980 non-null  object \n",
      " 1   category    162973 non-null  float64\n",
      "dtypes: float64(1), object(1)\n",
      "memory usage: 2.5+ MB\n"
     ]
    }
   ],
   "source": [
    "tweets.info()"
   ]
  },
  {
   "cell_type": "markdown",
   "metadata": {},
   "source": [
    "As we can see there are ~7 Null entries , hence removing them"
   ]
  },
  {
   "cell_type": "code",
   "execution_count": 4,
   "metadata": {},
   "outputs": [
    {
     "name": "stdout",
     "output_type": "stream",
     "text": [
      "<class 'pandas.core.frame.DataFrame'>\n",
      "Int64Index: 162973 entries, 0 to 162979\n",
      "Data columns (total 2 columns):\n",
      " #   Column      Non-Null Count   Dtype  \n",
      "---  ------      --------------   -----  \n",
      " 0   clean_text  162973 non-null  object \n",
      " 1   category    162973 non-null  float64\n",
      "dtypes: float64(1), object(1)\n",
      "memory usage: 3.7+ MB\n"
     ]
    }
   ],
   "source": [
    "tweets = tweets.dropna()\n",
    "tweets.info()"
   ]
  },
  {
   "cell_type": "code",
   "execution_count": 5,
   "metadata": {},
   "outputs": [
    {
     "name": "stderr",
     "output_type": "stream",
     "text": [
      "[nltk_data] Downloading package stopwords to\n",
      "[nltk_data]     C:\\Users\\FAIQUE\\AppData\\Roaming\\nltk_data...\n",
      "[nltk_data]   Package stopwords is already up-to-date!\n"
     ]
    }
   ],
   "source": [
    "\n",
    "import nltk\n",
    "nltk.download('stopwords')\n",
    "# stopwords \n",
    "stop = set(stopwords.words('english'))\n",
    "\n",
    "# retain only alphabets\n",
    "tweets['clean_text'] = tweets['clean_text'].apply(lambda x:re.sub(\"[^a-zA-Z]\", \" \",x))\n",
    "\n",
    "# convert to lowercase and tokenize\n",
    "tweets['clean_text'] = tweets['clean_text'].apply(lambda x:x.lower().split())\n",
    "\n",
    "# remove stopwords\n",
    "tweets['clean_text'] = tweets['clean_text'].apply(lambda x:[i for i in x if i not in stop])\n",
    "\n",
    "# join list elements\n",
    "tweets['clean_text'] = tweets['clean_text'].apply(lambda x: ' '.join(x))\n",
    "\n",
    "# split into training and test sets\n",
    "X_train, X_test, Y_train, Y_test = train_test_split(tweets[\"clean_text\"], tweets[\"category\"],\n",
    "                                                                            test_size = 0.2,random_state=3)\n"
   ]
  },
  {
   "cell_type": "code",
   "execution_count": 6,
   "metadata": {},
   "outputs": [
    {
     "data": {
      "text/plain": [
       "0"
      ]
     },
     "execution_count": 6,
     "metadata": {},
     "output_type": "execute_result"
    }
   ],
   "source": [
    "Y_train.isna().sum()"
   ]
  },
  {
   "cell_type": "code",
   "execution_count": null,
   "metadata": {},
   "outputs": [],
   "source": []
  },
  {
   "cell_type": "markdown",
   "metadata": {},
   "source": [
    "Vectorize with Bag-of-words and TF-IDF approach\n",
    "\n",
    "After cleaning data we vectorize data so that it can be fed into an ML algorithm. using Bag-of-words and TF-IDF.\n",
    "\n",
    "\n",
    "Initialize Bag-of-words vectorizer as CountVectorizer() \n",
    "\n",
    " fit each vectorizer on training and test features with text data and transform them to vectors.\n",
    "\n",
    "First fit and transform data with count_vectorizer on X_train using .fit_transform(X_train) method of count_vectorizer and save it as X_train_count and then on X_train\n",
    "\n",
    "Similarly repeat for tfidf_vectorizer \n",
    "\n"
   ]
  },
  {
   "cell_type": "code",
   "execution_count": 7,
   "metadata": {},
   "outputs": [
    {
     "name": "stdout",
     "output_type": "stream",
     "text": [
      "(130378, 87437)\n",
      "(32595, 2301821)\n",
      "(130378, 87437)\n",
      "(32595, 2301821)\n"
     ]
    }
   ],
   "source": [
    "\n",
    "# initialize count vectorizer\n",
    "count_vectorizer = CountVectorizer()\n",
    "\n",
    "# initialize tfidf vectorizer\n",
    "tfidf_vectorizer = TfidfVectorizer(ngram_range=(1, 3))\n",
    "\n",
    "# fit and transform with count vectorizer\n",
    "X_train_count = count_vectorizer.fit_transform(X_train)\n",
    "X_test_count = count_vectorizer.transform(X_test)\n",
    "\n",
    "\n",
    "# fit and transform with tfidf vectorizer\n",
    "X_train_tfidf = tfidf_vectorizer.fit_transform(X_train)\n",
    "X_test_tfidf = tfidf_vectorizer.transform(X_test)\n",
    "\n",
    "\n",
    "print(X_train_count.shape)\n",
    "print(X_test_tfidf.shape)\n",
    "\n",
    "\n",
    "# initialize count vectorizer\n",
    "count_vectorizer = CountVectorizer()\n",
    "\n",
    "# initialize tfidf vectorizer\n",
    "tfidf_vectorizer = TfidfVectorizer(ngram_range=(1, 3))\n",
    "\n",
    "# fit and transform with count vectorizer\n",
    "X_train_count = count_vectorizer.fit_transform(X_train)\n",
    "X_test_count = count_vectorizer.transform(X_test)\n",
    "\n",
    "\n",
    "# fit and transform with tfidf vectorizer\n",
    "X_train_tfidf = tfidf_vectorizer.fit_transform(X_train)\n",
    "X_test_tfidf = tfidf_vectorizer.transform(X_test)\n",
    "\n",
    "print(X_train_count.shape)\n",
    "print(X_test_tfidf.shape)\n"
   ]
  },
  {
   "cell_type": "markdown",
   "metadata": {},
   "source": [
    "Multinomial Naive Bayes\n",
    "Naive Bayes Classifier is a best algorithm to start with not just because of its fast computation but also for its quick explainability\n",
    "\n",
    "Multinomial Naive Bayes is an algorithm that can be used for the purpose of multi-class classification. \n",
    "Using it to train and test it on both the versions i.e. Bag-of-words and TF-IDF ones and then checking the accuracy on both of them\n",
    "\n",
    "First initialize two Multinomial Naive Bayes classifiers with MultinomialNB() and save them as nb_1 and nb_2. The reason for initializing two classifiers is because you will be training and testing on both Bag-of-words and TF-IDF transformed training data\n",
    "\n",
    "nb_1 on X_train_count and Y_train using .fit() method\n",
    "\n",
    "nb_2 on X_train_tfidf and Y_train using .fit() method\n",
    "\n"
   ]
  },
  {
   "cell_type": "code",
   "execution_count": 8,
   "metadata": {},
   "outputs": [
    {
     "name": "stdout",
     "output_type": "stream",
     "text": [
      "0.7302040190213223 0.5379352661451143\n"
     ]
    }
   ],
   "source": [
    "\n",
    "\n",
    "# initialize multinomial naive bayes\n",
    "nb_1 = MultinomialNB()\n",
    "nb_2 = MultinomialNB()\n",
    "\n",
    "# fit on count vectorizer training data\n",
    "nb_1.fit(X_train_count, Y_train)\n",
    "\n",
    "# fit on tfidf vectorizer training data\n",
    "nb_2.fit(X_train_tfidf, Y_train)\n",
    "\n",
    "# accuracy with count vectorizer\n",
    "acc_count_nb = accuracy_score(nb_1.predict(X_test_count), Y_test)\n",
    "\n",
    "# accuracy with tfidf vectorizer\n",
    "acc_tfidf_nb = accuracy_score(nb_2.predict(X_test_tfidf), Y_test)\n",
    "\n",
    "# display accuracies\n",
    "print(acc_count_nb, acc_tfidf_nb)\n",
    "\n",
    "# Code ends here\n"
   ]
  },
  {
   "cell_type": "code",
   "execution_count": 9,
   "metadata": {},
   "outputs": [
    {
     "data": {
      "text/plain": [
       "<AxesSubplot:>"
      ]
     },
     "execution_count": 9,
     "metadata": {},
     "output_type": "execute_result"
    },
    {
     "data": {
      "image/png": "[encoded data removed]",
      "text/plain": [
       "<Figure size 432x288 with 2 Axes>"
      ]
     },
     "metadata": {
      "needs_background": "light"
     },
     "output_type": "display_data"
    }
   ],
   "source": [
    "import seaborn as sns\n",
    "from sklearn.metrics import confusion_matrix\n",
    "cm = confusion_matrix(Y_test , nb_1.predict(X_test_count))\n",
    "sns.heatmap(cm, annot=True, fmt='g')"
   ]
  },
  {
   "cell_type": "code",
   "execution_count": 10,
   "metadata": {},
   "outputs": [
    {
     "data": {
      "text/plain": [
       "<AxesSubplot:>"
      ]
     },
     "execution_count": 10,
     "metadata": {},
     "output_type": "execute_result"
    },
    {
     "data": {
      "image/png": "[encoded data removed]",
      "text/plain": [
       "<Figure size 432x288 with 2 Axes>"
      ]
     },
     "metadata": {
      "needs_background": "light"
     },
     "output_type": "display_data"
    }
   ],
   "source": [
    "import seaborn as sns\n",
    "from sklearn.metrics import confusion_matrix\n",
    "cm = confusion_matrix(Y_test , nb_2.predict(X_test_tfidf))\n",
    "sns.heatmap(cm, annot=True, fmt='g')"
   ]
  },
  {
   "cell_type": "code",
   "execution_count": 11,
   "metadata": {},
   "outputs": [
    {
     "name": "stdout",
     "output_type": "stream",
     "text": [
      "              precision    recall  f1-score   support\n",
      "\n",
      "        -1.0       0.75      0.60      0.67      7176\n",
      "         0.0       0.88      0.59      0.71     11052\n",
      "         1.0       0.67      0.90      0.77     14367\n",
      "\n",
      "    accuracy                           0.73     32595\n",
      "   macro avg       0.76      0.70      0.71     32595\n",
      "weighted avg       0.76      0.73      0.72     32595\n",
      "\n"
     ]
    }
   ],
   "source": [
    "# Model Accuracy: how often is the classifier correct?\n",
    "from sklearn import metrics\n",
    "from sklearn.metrics import confusion_matrix, classification_report\n",
    "\n",
    "cr = classification_report(Y_test , nb_1.predict(X_test_count))\n",
    "print(cr)"
   ]
  },
  {
   "cell_type": "code",
   "execution_count": 12,
   "metadata": {},
   "outputs": [
    {
     "name": "stdout",
     "output_type": "stream",
     "text": [
      "              precision    recall  f1-score   support\n",
      "\n",
      "        -1.0       0.95      0.08      0.15      7176\n",
      "         0.0       0.90      0.25      0.40     11052\n",
      "         1.0       0.49      0.99      0.65     14367\n",
      "\n",
      "    accuracy                           0.54     32595\n",
      "   macro avg       0.78      0.44      0.40     32595\n",
      "weighted avg       0.73      0.54      0.46     32595\n",
      "\n"
     ]
    }
   ],
   "source": [
    "# Model Accuracy: how often is the classifier correct?\n",
    "from sklearn import metrics\n",
    "from sklearn.metrics import confusion_matrix, classification_report\n",
    "\n",
    "cr = classification_report(Y_test , nb_2.predict(X_test_tfidf))\n",
    "print(cr)"
   ]
  },
  {
   "cell_type": "markdown",
   "metadata": {},
   "source": [
    "Logistic Regression can be used for binary classification but when combined with OneVsRest classifer, it can perform multiclass classification as well. \n",
    "\n",
    "Instructions First initialize two classifiers with OneVsRestClassifier(LogisticRegression(random_state=10)) and save them as logreg_1 and logreg_2. \n",
    "The accuracy with Bag-of-words approach using accuracy_score(logreg_1.predict(X_test_count), Y_test) and save it as acc_count_logreg\n",
    " Similarly The accuracy for the TF-IDF approach (only difference is the classifer is logreg_2) and save it as acc_tfidf_logreg Print out acc_count_logreg and acc_tfidf_logreg to check \n",
    " which version performs better for with Multinomial Naive Bayes as classifer"
   ]
  },
  {
   "cell_type": "code",
   "execution_count": 13,
   "metadata": {},
   "outputs": [
    {
     "name": "stdout",
     "output_type": "stream",
     "text": [
      "0.9085135757017948 0.8365086669734622\n"
     ]
    }
   ],
   "source": [
    "import warnings\n",
    "warnings.filterwarnings('ignore')\n",
    "\n",
    "# initialize logistic regression\n",
    "logreg_1 = OneVsRestClassifier(LogisticRegression(random_state=10))\n",
    "logreg_2 = OneVsRestClassifier(LogisticRegression(random_state=10))\n",
    "\n",
    "# fit on count vectorizer training data\n",
    "logreg_1.fit(X_train_count, Y_train)\n",
    "\n",
    "# fit on tfidf vectorizer training data\n",
    "logreg_2.fit(X_train_tfidf, Y_train)\n",
    "\n",
    "# accuracy with count vectorizer\n",
    "acc_count_logreg = accuracy_score(logreg_1.predict(X_test_count), Y_test)\n",
    "\n",
    "# accuracy with tfidf vectorizer\n",
    "acc_tfidf_logreg = accuracy_score(logreg_2.predict(X_test_tfidf), Y_test)\n",
    "\n",
    "# display accuracies\n",
    "print(acc_count_logreg, acc_tfidf_logreg)\n",
    "\n"
   ]
  },
  {
   "cell_type": "code",
   "execution_count": 14,
   "metadata": {},
   "outputs": [
    {
     "data": {
      "text/plain": [
       "<AxesSubplot:>"
      ]
     },
     "execution_count": 14,
     "metadata": {},
     "output_type": "execute_result"
    },
    {
     "data": {
      "image/png": "[encoded data removed]",
      "text/plain": [
       "<Figure size 432x288 with 2 Axes>"
      ]
     },
     "metadata": {
      "needs_background": "light"
     },
     "output_type": "display_data"
    }
   ],
   "source": [
    "import seaborn as sns\n",
    "from sklearn.metrics import confusion_matrix\n",
    "cm = confusion_matrix(Y_test , logreg_1.predict(X_test_count))\n",
    "sns.heatmap(cm, annot=True, fmt='g')"
   ]
  },
  {
   "cell_type": "code",
   "execution_count": 15,
   "metadata": {},
   "outputs": [
    {
     "data": {
      "text/plain": [
       "<AxesSubplot:>"
      ]
     },
     "execution_count": 15,
     "metadata": {},
     "output_type": "execute_result"
    },
    {
     "data": {
      "image/png": "[encoded data removed]",
      "text/plain": [
       "<Figure size 432x288 with 2 Axes>"
      ]
     },
     "metadata": {
      "needs_background": "light"
     },
     "output_type": "display_data"
    }
   ],
   "source": [
    "import seaborn as sns\n",
    "from sklearn.metrics import confusion_matrix\n",
    "cm = confusion_matrix(Y_test , logreg_2.predict(X_test_tfidf))\n",
    "sns.heatmap(cm, annot=True, fmt='g')"
   ]
  },
  {
   "cell_type": "code",
   "execution_count": 16,
   "metadata": {},
   "outputs": [
    {
     "name": "stdout",
     "output_type": "stream",
     "text": [
      "              precision    recall  f1-score   support\n",
      "\n",
      "        -1.0       0.89      0.82      0.85      7176\n",
      "         0.0       0.89      0.97      0.93     11052\n",
      "         1.0       0.93      0.90      0.92     14367\n",
      "\n",
      "    accuracy                           0.91     32595\n",
      "   macro avg       0.90      0.90      0.90     32595\n",
      "weighted avg       0.91      0.91      0.91     32595\n",
      "\n"
     ]
    }
   ],
   "source": [
    "# Model Accuracy: how often is the classifier correct?\n",
    "from sklearn import metrics\n",
    "from sklearn.metrics import confusion_matrix, classification_report\n",
    "\n",
    "cr = classification_report(Y_test , logreg_1.predict(X_test_count))\n",
    "print(cr)"
   ]
  },
  {
   "cell_type": "code",
   "execution_count": 17,
   "metadata": {},
   "outputs": [
    {
     "name": "stdout",
     "output_type": "stream",
     "text": [
      "              precision    recall  f1-score   support\n",
      "\n",
      "        -1.0       0.87      0.67      0.76      7176\n",
      "         0.0       0.84      0.87      0.85     11052\n",
      "         1.0       0.83      0.89      0.86     14367\n",
      "\n",
      "    accuracy                           0.84     32595\n",
      "   macro avg       0.84      0.81      0.82     32595\n",
      "weighted avg       0.84      0.84      0.83     32595\n",
      "\n"
     ]
    }
   ],
   "source": [
    "# Model Accuracy: how often is the classifier correct?\n",
    "from sklearn import metrics\n",
    "from sklearn.metrics import confusion_matrix, classification_report\n",
    "\n",
    "cr = classification_report(Y_test , logreg_2.predict(X_test_tfidf))\n",
    "print(cr)"
   ]
  },
  {
   "cell_type": "markdown",
   "metadata": {},
   "source": [
    "Decision Tree Classifier\n",
    "Decision Trees are a type of Supervised Machine Learning Algorithm where the data is continuously split according to a certain parameter at each node making decisions as it goes deeper.\n",
    "Here, Decisions tree will be making a lot of node as there is a huge corpus of words ~10^6 words found,"
   ]
  },
  {
   "cell_type": "code",
   "execution_count": 18,
   "metadata": {},
   "outputs": [
    {
     "name": "stdout",
     "output_type": "stream",
     "text": [
      "dt time taken = 375.18262124061584\n"
     ]
    }
   ],
   "source": [
    "from sklearn.tree import DecisionTreeClassifier\n",
    "import time\n",
    "# Create Decision Tree classifer object\n",
    "clf_tree = DecisionTreeClassifier()\n",
    "\n",
    "# Train Decision Tree Classifer\n",
    "\n",
    "s = time.time()\n",
    "clf_tree = clf_tree.fit(X_train_count,Y_train)\n",
    "e = time.time()\n",
    "dt_time = e - s\n",
    "print(\"dt time taken = {}\".format(dt_time))\n",
    "\n",
    "#Predict the response for test dataset\n",
    "y_pred_tree = clf_tree.predict(X_test_count)"
   ]
  },
  {
   "cell_type": "code",
   "execution_count": 19,
   "metadata": {},
   "outputs": [
    {
     "name": "stdout",
     "output_type": "stream",
     "text": [
      "0.8633225954901058\n"
     ]
    }
   ],
   "source": [
    "# Model Accuracy: how often is the classifier correct?\n",
    "from sklearn import metrics\n",
    "from sklearn.metrics import confusion_matrix, classification_report\n",
    "# accuracy with count vectorizer\n",
    "acc_count_logreg = accuracy_score(y_pred_tree, Y_test)\n",
    "print(acc_count_logreg)\n"
   ]
  },
  {
   "cell_type": "code",
   "execution_count": 20,
   "metadata": {},
   "outputs": [
    {
     "data": {
      "text/plain": [
       "<AxesSubplot:>"
      ]
     },
     "execution_count": 20,
     "metadata": {},
     "output_type": "execute_result"
    },
    {
     "data": {
      "image/png": "[encoded data removed]",
      "text/plain": [
       "<Figure size 432x288 with 2 Axes>"
      ]
     },
     "metadata": {
      "needs_background": "light"
     },
     "output_type": "display_data"
    }
   ],
   "source": [
    "import seaborn as sns\n",
    "from sklearn.metrics import confusion_matrix\n",
    "cm = confusion_matrix(Y_test , y_pred_tree)\n",
    "sns.heatmap(cm, annot=True, fmt='g')"
   ]
  },
  {
   "cell_type": "code",
   "execution_count": 21,
   "metadata": {},
   "outputs": [
    {
     "name": "stdout",
     "output_type": "stream",
     "text": [
      "              precision    recall  f1-score   support\n",
      "\n",
      "        -1.0       0.78      0.76      0.77      7176\n",
      "         0.0       0.90      0.93      0.92     11052\n",
      "         1.0       0.87      0.86      0.87     14367\n",
      "\n",
      "    accuracy                           0.86     32595\n",
      "   macro avg       0.85      0.85      0.85     32595\n",
      "weighted avg       0.86      0.86      0.86     32595\n",
      "\n"
     ]
    }
   ],
   "source": [
    "# Model Accuracy: how often is the classifier correct?\n",
    "from sklearn import metrics\n",
    "from sklearn.metrics import confusion_matrix, classification_report\n",
    "\n",
    "cr = classification_report(Y_test , y_pred_tree)\n",
    "print(cr)"
   ]
  },
  {
   "cell_type": "markdown",
   "metadata": {},
   "source": [
    "# Summary\n",
    "## Model performance\n",
    "1. Naive Bayes Model =\n",
    "    a. CountVectorizer- 0.7302040190213223 \n",
    "    b. TFDIF -0.5379352661451143\n",
    "2. OneVsRest Logistic Regression\n",
    "    a. CountVectorizer- 0.9085135757017948 \n",
    "    b. TFIDF - 0.8365086669734622\n",
    "3. Decision Trees \n",
    "    a.CountVectorizer - 0.8638134683233625\n",
    "    b. TFIDF - NA"
   ]
  },
  {
   "cell_type": "markdown",
   "metadata": {},
   "source": [
    "The same as above decision tree classifier is taking too long to run with tfidf vectorized data set hence leaving it for the time being"
   ]
  },
  {
   "cell_type": "code",
   "execution_count": 13,
   "metadata": {},
   "outputs": [],
   "source": [
    "from sklearn.tree import DecisionTreeClassifier\n",
    "import time\n",
    "# Create Decision Tree classifer object\n",
    "clf_tree = DecisionTreeClassifier()\n",
    "\n",
    "# Train Decision Tree Classifer\n",
    "\n",
    "s = time.time()\n",
    "clf_tree = clf_tree.fit(X_train_tfidf,Y_train)\n",
    "e = time.time()\n",
    "dt_time = e - s\n",
    "print(\"dt time taken = {}\".format(dt_time))\n",
    "\n",
    "#Predict the response for test dataset\n",
    "y_pred_tree = clf_tree.predict(X_test_count)"
   ]
  },
  {
   "cell_type": "code",
   "execution_count": null,
   "metadata": {},
   "outputs": [],
   "source": [
    "# Model Accuracy: how often is the classifier correct?\n",
    "from sklearn import metrics\n",
    "from sklearn.metrics import confusion_matrix, classification_report\n",
    "# accuracy with count vectorizer\n",
    "acc_count_logreg = accuracy_score(logreg_1.predict(X_test_count), y_pred_tree)\n",
    "print(acc_count_logreg)\n"
   ]
  },
  {
   "cell_type": "code",
   "execution_count": null,
   "metadata": {},
   "outputs": [],
   "source": []
  },
  {
   "cell_type": "code",
   "execution_count": null,
   "metadata": {},
   "outputs": [],
   "source": []
  },
  {
   "cell_type": "code",
   "execution_count": null,
   "metadata": {},
   "outputs": [],
   "source": []
  },
  {
   "cell_type": "code",
   "execution_count": null,
   "metadata": {},
   "outputs": [],
   "source": []
  },
  {
   "cell_type": "code",
   "execution_count": null,
   "metadata": {},
   "outputs": [],
   "source": []
  },
  {
   "cell_type": "code",
   "execution_count": null,
   "metadata": {},
   "outputs": [],
   "source": []
  },
  {
   "cell_type": "code",
   "execution_count": null,
   "metadata": {},
   "outputs": [],
   "source": []
  }
 ],
 "metadata": {
  "interpreter": {
   "hash": "a4516154e74d049576ee9f0a514a60c736e44b290442674e326c3670c77f89ce"
  },
  "kernelspec": {
   "display_name": "Python 3",
   "language": "python",
   "name": "python3"
  },
  "language_info": {
   "codemirror_mode": {
    "name": "ipython",
    "version": 3
   },
   "file_extension": ".py",
   "mimetype": "text/x-python",
   "name": "python",
   "nbconvert_exporter": "python",
   "pygments_lexer": "ipython3",
   "version": "3.8.0"
  }
 },
 "nbformat": 4,
 "nbformat_minor": 4
}
